{
 "cells": [
  {
   "cell_type": "code",
   "execution_count": 1,
   "metadata": {},
   "outputs": [
    {
     "name": "stderr",
     "output_type": "stream",
     "text": [
      "100%|██████████| 601937/601937 [00:01<00:00, 346381.96it/s]\n"
     ]
    }
   ],
   "source": [
    "from training_data_loader import XViewTrainingDataset\n",
    "\n",
    "x = XViewTrainingDataset()"
   ]
  },
  {
   "cell_type": "code",
   "execution_count": 2,
   "metadata": {},
   "outputs": [],
   "source": [
    "a = next(x)"
   ]
  },
  {
   "cell_type": "code",
   "execution_count": 3,
   "metadata": {},
   "outputs": [],
   "source": [
    "name, coords, classes = a"
   ]
  },
  {
   "cell_type": "code",
   "execution_count": 4,
   "metadata": {},
   "outputs": [],
   "source": [
    "import numpy as np\n",
    "unique, counts = np.unique(classes, return_counts=True)"
   ]
  },
  {
   "cell_type": "code",
   "execution_count": 5,
   "metadata": {},
   "outputs": [
    {
     "data": {
      "text/plain": [
       "array([18, 23, 71, 72, 73, 76, 79])"
      ]
     },
     "execution_count": 5,
     "metadata": {},
     "output_type": "execute_result"
    }
   ],
   "source": [
    "unique"
   ]
  },
  {
   "cell_type": "code",
   "execution_count": 6,
   "metadata": {},
   "outputs": [
    {
     "data": {
      "text/plain": [
       "'10.tif'"
      ]
     },
     "execution_count": 6,
     "metadata": {},
     "output_type": "execute_result"
    }
   ],
   "source": [
    "name"
   ]
  },
  {
   "cell_type": "code",
   "execution_count": 8,
   "metadata": {},
   "outputs": [
    {
     "name": "stderr",
     "output_type": "stream",
     "text": [
      "100%|██████████| 601937/601937 [00:01<00:00, 328906.90it/s]\n"
     ]
    }
   ],
   "source": [
    "import csv\n",
    "import numpy as np\n",
    "from training_data_loader import XViewTrainingDataset\n",
    "\n",
    "#Load the class number -> class string label map\n",
    "labels = {}\n",
    "with open('data_utilities/xview_class_labels.txt') as f:\n",
    "    for row in csv.reader(f):\n",
    "        labels[int(row[0].split(\":\")[0])] = row[0].split(\":\")[1]\n",
    "\n",
    "xv = XViewTrainingDataset()\n",
    "class_count_dict_list = []\n",
    "# for _i, _c, classes in iter(xv):\n",
    "with open('structurecount.txt', 'a') as f:\n",
    "    for i in range(len(xv)):\n",
    "        _i, _c, classes = next(xv)\n",
    "        unique, counts = np.unique(classes, return_counts=True)\n",
    "        class_count_dict = dict(zip(unique, counts))\n",
    "        f.write(str(class_count_dict) + '\\n')\n",
    "        class_count_dict_list.append(class_count_dict)"
   ]
  },
  {
   "cell_type": "code",
   "execution_count": 11,
   "metadata": {},
   "outputs": [],
   "source": [
    "with open('labelct.csv', 'a') as f:\n",
    "    f.write(f'label, label_count\\n')\n",
    "    for label in labels:\n",
    "        label_count = 0\n",
    "        for d in class_count_dict_list:\n",
    "            try:\n",
    "                label_count += d[label]\n",
    "            except KeyError:\n",
    "                label_count += 0\n",
    "        f.write(f'{labels[label]},{label_count}\\n')\n"
   ]
  }
 ],
 "metadata": {
  "interpreter": {
   "hash": "590c26b7f2937bfcecb0a5796d3a0066be0ce7e9830b13c53de43dd49be9b17a"
  },
  "kernelspec": {
   "display_name": "Python 3.8.8 ('base')",
   "language": "python",
   "name": "python3"
  },
  "language_info": {
   "codemirror_mode": {
    "name": "ipython",
    "version": 3
   },
   "file_extension": ".py",
   "mimetype": "text/x-python",
   "name": "python",
   "nbconvert_exporter": "python",
   "pygments_lexer": "ipython3",
   "version": "3.8.8"
  },
  "orig_nbformat": 4
 },
 "nbformat": 4,
 "nbformat_minor": 2
}
