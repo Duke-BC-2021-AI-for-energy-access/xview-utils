{
 "cells": [
  {
   "cell_type": "code",
   "execution_count": null,
   "metadata": {},
   "outputs": [],
   "source": [
    "from training_data_loader import XViewTrainingDataset\n",
    "\n",
    "x = XViewTrainingDataset()"
   ]
  },
  {
   "cell_type": "code",
   "execution_count": 7,
   "metadata": {},
   "outputs": [],
   "source": [
    "# https://github.com/DIUx-xView/data_utilities/blob/master/xview_class_labels.txt\n",
    "LABEL = 71"
   ]
  },
  {
   "cell_type": "code",
   "execution_count": null,
   "metadata": {},
   "outputs": [],
   "source": [
    "a = next(x)\n",
    "name, coords, classes, gps_coordinates = a"
   ]
  },
  {
   "cell_type": "code",
   "execution_count": 6,
   "metadata": {},
   "outputs": [
    {
     "data": {
      "text/plain": [
       "array([73, 23, 73, 73, 73, 73, 73, 73, 73, 73, 73, 73, 73, 73, 73, 73, 73,\n",
       "       73, 73, 73, 73, 73, 73, 73, 73, 73, 73, 79, 79, 79, 79, 79, 79, 79,\n",
       "       71, 72, 18, 18, 76, 73, 73, 73, 76, 73, 72, 73, 76, 76, 73, 76, 73,\n",
       "       73, 76, 73, 73, 73, 73, 73, 73, 73, 73, 73, 73])"
      ]
     },
     "execution_count": 6,
     "metadata": {},
     "output_type": "execute_result"
    }
   ],
   "source": [
    "classes"
   ]
  },
  {
   "cell_type": "code",
   "execution_count": null,
   "metadata": {},
   "outputs": [],
   "source": [
    "gps_coordinates"
   ]
  },
  {
   "cell_type": "code",
   "execution_count": 8,
   "metadata": {},
   "outputs": [
    {
     "data": {
      "text/plain": [
       "True"
      ]
     },
     "execution_count": 8,
     "metadata": {},
     "output_type": "execute_result"
    }
   ],
   "source": [
    "LABEL in classes"
   ]
  },
  {
   "cell_type": "code",
   "execution_count": 9,
   "metadata": {},
   "outputs": [],
   "source": [
    "import numpy as np\n",
    "# find an image containing the label\n",
    "target_class = np.full_like(classes, LABEL)"
   ]
  },
  {
   "cell_type": "code",
   "execution_count": 11,
   "metadata": {},
   "outputs": [
    {
     "data": {
      "text/plain": [
       "array([[-23.47609782,  14.95480685]])"
      ]
     },
     "execution_count": 11,
     "metadata": {},
     "output_type": "execute_result"
    }
   ],
   "source": [
    "labels = gps_coordinates[classes==target_class]\n",
    "labels"
   ]
  },
  {
   "cell_type": "code",
   "execution_count": null,
   "metadata": {},
   "outputs": [],
   "source": [
    "import data_utilities.aug_util as aug\n",
    "import data_utilities.wv_util as wv\n",
    "import matplotlib.pyplot as plt\n",
    "labelled = aug.draw_bboxes(wv.get_image('train_images/' + name), labels)\n",
    "plt.figure(figsize=(5,5))\n",
    "plt.axis('off')\n",
    "plt.imshow(labelled)"
   ]
  },
  {
   "cell_type": "code",
   "execution_count": null,
   "metadata": {},
   "outputs": [],
   "source": [
    "classes"
   ]
  },
  {
   "cell_type": "code",
   "execution_count": null,
   "metadata": {},
   "outputs": [],
   "source": [
    "import numpy as np\n",
    "unique, counts = np.unique(classes, return_counts=True)"
   ]
  },
  {
   "cell_type": "code",
   "execution_count": null,
   "metadata": {},
   "outputs": [],
   "source": [
    "unique"
   ]
  },
  {
   "cell_type": "code",
   "execution_count": null,
   "metadata": {},
   "outputs": [],
   "source": [
    "name"
   ]
  },
  {
   "cell_type": "code",
   "execution_count": 14,
   "metadata": {},
   "outputs": [
    {
     "name": "stderr",
     "output_type": "stream",
     "text": [
      "100%|██████████| 601937/601937 [00:02<00:00, 252837.77it/s]\n"
     ]
    }
   ],
   "source": [
    "import csv\n",
    "import numpy as np\n",
    "from training_data_loader import XViewTrainingDataset\n",
    "\n",
    "#Load the class number -> class string label map\n",
    "labels = {}\n",
    "with open('data_utilities/xview_class_labels.txt') as f:\n",
    "    for row in csv.reader(f):\n",
    "        labels[int(row[0].split(\":\")[0])] = row[0].split(\":\")[1]\n",
    "\n",
    "xv = XViewTrainingDataset()\n",
    "\n",
    "class_count_dict_list = []\n",
    "# for _i, _c, classes in iter(xv):\n",
    "with open('structurecount.txt', 'a') as f:\n",
    "    for i in range(len(xv)):\n",
    "        _i, _c, classes = next(xv)\n",
    "        unique, counts = np.unique(classes, return_counts=True)\n",
    "        class_count_dict = dict(zip(unique, counts))\n",
    "        f.write(str(class_count_dict) + '\\n')\n",
    "        class_count_dict_list.append(class_count_dict)\n"
   ]
  },
  {
   "cell_type": "code",
   "execution_count": null,
   "metadata": {},
   "outputs": [],
   "source": [
    "with open('labelct.csv', 'a') as f:\n",
    "    f.write(f'label, label_count\\n')\n",
    "    for label in labels:\n",
    "        label_count = 0\n",
    "        for d in class_count_dict_list:\n",
    "            try:\n",
    "                label_count += d[label]\n",
    "            except KeyError:\n",
    "                label_count += 0\n",
    "        f.write(f'{labels[label]},{label_count}\\n')\n"
   ]
  }
 ],
 "metadata": {
  "interpreter": {
   "hash": "590c26b7f2937bfcecb0a5796d3a0066be0ce7e9830b13c53de43dd49be9b17a"
  },
  "kernelspec": {
   "display_name": "Python 3.8.8 ('base')",
   "language": "python",
   "name": "python3"
  },
  "language_info": {
   "codemirror_mode": {
    "name": "ipython",
    "version": 3
   },
   "file_extension": ".py",
   "mimetype": "text/x-python",
   "name": "python",
   "nbconvert_exporter": "python",
   "pygments_lexer": "ipython3",
   "version": "3.8.8"
  },
  "orig_nbformat": 4
 },
 "nbformat": 4,
 "nbformat_minor": 2
}
